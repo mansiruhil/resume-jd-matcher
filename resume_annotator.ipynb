{
  "nbformat": 4,
  "nbformat_minor": 0,
  "metadata": {
    "colab": {
      "provenance": [],
      "toc_visible": true,
      "authorship_tag": "ABX9TyPTSuUNswX5q4sBJzy3AIME",
      "include_colab_link": true
    },
    "kernelspec": {
      "name": "python3",
      "display_name": "Python 3"
    },
    "language_info": {
      "name": "python"
    }
  },
  "cells": [
    {
      "cell_type": "markdown",
      "metadata": {
        "id": "view-in-github",
        "colab_type": "text"
      },
      "source": [
        "<a href=\"https://colab.research.google.com/github/mansiruhil/resume-jd-matcher/blob/main/resume_annotator.ipynb\" target=\"_parent\"><img src=\"https://colab.research.google.com/assets/colab-badge.svg\" alt=\"Open In Colab\"/></a>"
      ]
    },
    {
      "cell_type": "code",
      "source": [
        "!pip install jobscan"
      ],
      "metadata": {
        "id": "xIg18LHb_GOe"
      },
      "execution_count": null,
      "outputs": []
    },
    {
      "cell_type": "code",
      "source": [
        "with open(\"target_jd.txt\", \"r\", encoding=\"utf-8\") as f:\n",
        "    jd_text = f.read()\n",
        "\n",
        "with open(\"modified_resume.txt\", \"r\", encoding=\"utf-8\") as f:\n",
        "    resume_text = f.read()"
      ],
      "metadata": {
        "id": "g86iVlFw_JDu"
      },
      "execution_count": null,
      "outputs": []
    },
    {
      "cell_type": "code",
      "source": [
        "import spacy\n",
        "from collections import Counter\n",
        "nlp = spacy.load(\"en_core_web_sm\")\n",
        "jd_doc = nlp(jd_text)\n",
        "resume_doc = nlp(resume_text)"
      ],
      "metadata": {
        "id": "VBtitXm9_LGA"
      },
      "execution_count": null,
      "outputs": []
    },
    {
      "cell_type": "code",
      "source": [
        "jd_tokens = [token.text.lower() for token in jd_doc if token.pos_ in [\"NOUN\", \"PROPN\", \"VERB\", \"ADJ\"] and not token.is_stop]\n",
        "resume_tokens = [token.text.lower() for token in resume_doc]"
      ],
      "metadata": {
        "id": "Z4DuFs3n_N8V"
      },
      "execution_count": null,
      "outputs": []
    },
    {
      "cell_type": "code",
      "source": [
        "jd_keywords = set(jd_tokens)\n",
        "resume_words = set(resume_tokens)\n",
        "missing_keywords = jd_keywords - resume_words\n",
        "matched_keywords = jd_keywords & resume_words"
      ],
      "metadata": {
        "id": "6ZSjUnfK_QSr"
      },
      "execution_count": null,
      "outputs": []
    },
    {
      "cell_type": "code",
      "source": [
        "print(\"matched keywords:\")\n",
        "print(matched_keywords)\n",
        "print(\"\\n missing keywords (consider adding to your resume):\")\n",
        "print(missing_keywords)"
      ],
      "metadata": {
        "id": "z14AylbK_Tlk"
      },
      "execution_count": null,
      "outputs": []
    },
    {
      "cell_type": "code",
      "source": [
        "import matplotlib.pyplot as plt\n",
        "labels = ['matched', 'missing']\n",
        "sizes = [len(matched_keywords), len(missing_keywords)]\n",
        "plt.pie(sizes, labels=labels, autopct='%1.1f%%')\n",
        "plt.title(\"JD vs resume keyword match\")\n",
        "plt.show()"
      ],
      "metadata": {
        "id": "mQb0inbb_cev"
      },
      "execution_count": null,
      "outputs": []
    }
  ]
}